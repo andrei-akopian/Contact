{
 "cells": [
  {
   "cell_type": "markdown",
   "metadata": {},
   "source": [
    "\"Requirements\":\n",
    "- Only Nouns allowed\n",
    "- Has to be categorized into letters\n",
    "- Store into `/dictionaries`\n",
    "\n",
    "```json\n",
    "//language.json\n",
    "{\n",
    "  \"a\":[ //words starting with \"a\"\n",
    "    [0,\"apple\",[\"a red fruit\",\"a tech company\"]], // [number,word,[definitions]]\n",
    "    [2,\"area\",[\"a region\"]]\n",
    "  ],\n",
    "  \"b\":[ //words starting with \"b\"\n",
    "    [1,\"boat\",[\"a small ship\"]]\n",
    "  ]\n",
    "}\n",
    "```\n",
    "\n",
    "Leading number is responsible for frequency rank. "
   ]
  },
  {
   "cell_type": "code",
   "execution_count": 1,
   "metadata": {},
   "outputs": [],
   "source": [
    "import json"
   ]
  },
  {
   "cell_type": "code",
   "execution_count": 2,
   "metadata": {},
   "outputs": [],
   "source": [
    "from nltk.corpus import wordnet"
   ]
  },
  {
   "cell_type": "code",
   "execution_count": 4,
   "metadata": {},
   "outputs": [],
   "source": [
    "with open(\"/Users/andrei/Documents/Coding/Datasets/frequency-alpha-alldicts.txt\",\"r\") as f:\n",
    "    words=[s.split()[1] for s in f.readlines()]"
   ]
  },
  {
   "cell_type": "code",
   "execution_count": 6,
   "metadata": {},
   "outputs": [],
   "source": [
    "alphabet=\"abcdefghijklmnopqrstuvwxyz\"\n",
    "wordset={c:[] for c in alphabet}\n",
    "for i in range(1,len(words)):\n",
    "    l=wordnet.synsets(words[i])\n",
    "    definitions=[]\n",
    "    for w in l:\n",
    "        if w.pos()==\"n\":\n",
    "            definitions.append(w.definition())\n",
    "    if len(definitions)>0:\n",
    "        wordset[words[i][0].lower()].append([i,words[i],definitions])\n"
   ]
  },
  {
   "cell_type": "code",
   "execution_count": 7,
   "metadata": {},
   "outputs": [],
   "source": [
    "with open(\"dictionaries/english.json\",\"w\") as f:\n",
    "    json.dump(wordset,f)"
   ]
  }
 ],
 "metadata": {
  "kernelspec": {
   "display_name": "Python 3",
   "language": "python",
   "name": "python3"
  },
  "language_info": {
   "codemirror_mode": {
    "name": "ipython",
    "version": 3
   },
   "file_extension": ".py",
   "mimetype": "text/x-python",
   "name": "python",
   "nbconvert_exporter": "python",
   "pygments_lexer": "ipython3",
   "version": "3.11.2"
  },
  "orig_nbformat": 4
 },
 "nbformat": 4,
 "nbformat_minor": 2
}
