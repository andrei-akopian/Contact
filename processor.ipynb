{
 "cells": [
  {
   "cell_type": "markdown",
   "metadata": {},
   "source": [
    "\"Requirements\":\n",
    "- Only Nouns allowed\n",
    "- Has to be categorized into letters\n",
    "- Store into `/dictionaries`\n",
    "\n",
    "```json\n",
    "//language.json\n",
    "{\n",
    "  \"a\":[ //words starting with \"a\"\n",
    "    [0,\"apple\",[\"a red fruit\",\"a tech company\"]], // [number,word,[definitions]]\n",
    "    [2,\"area\",[\"a region\"]]\n",
    "  ],\n",
    "  \"b\":[ //words starting with \"b\"\n",
    "    [1,\"boat\",[\"a small ship\"]]\n",
    "  ]\n",
    "}\n",
    "```\n",
    "\n",
    "Leading number is responsible for frequency rank. "
   ]
  },
  {
   "cell_type": "code",
   "execution_count": 3,
   "metadata": {},
   "outputs": [],
   "source": [
    "import json"
   ]
  },
  {
   "cell_type": "code",
   "execution_count": 2,
   "metadata": {},
   "outputs": [],
   "source": [
    "from nltk.corpus import wordnet"
   ]
  },
  {
   "cell_type": "code",
   "execution_count": 4,
   "metadata": {},
   "outputs": [],
   "source": [
    "with open(\"/Users/andrei/Documents/Coding/Datasets/frequency-alpha-alldicts.txt\",\"r\") as f:\n",
    "    words=[s.split()[1] for s in f.readlines()]"
   ]
  },
  {
   "cell_type": "code",
   "execution_count": 6,
   "metadata": {},
   "outputs": [],
   "source": [
    "alphabet=\"abcdefghijklmnopqrstuvwxyz\"\n",
    "wordset={c:[] for c in alphabet}\n",
    "for i in range(1,len(words)):\n",
    "    l=wordnet.synsets(words[i])\n",
    "    definitions=[]\n",
    "    for w in l:\n",
    "        if w.pos()==\"n\":\n",
    "            definitions.append(w.definition())\n",
    "    if len(definitions)>0:\n",
    "        wordset[words[i][0].lower()].append([i,words[i],definitions])\n"
   ]
  },
  {
   "cell_type": "code",
   "execution_count": 7,
   "metadata": {},
   "outputs": [],
   "source": [
    "with open(\"dictionaries/english.json\",\"w\") as f:\n",
    "    json.dump(wordset,f)"
   ]
  },
  {
   "cell_type": "markdown",
   "metadata": {},
   "source": [
    "# Russian\n",
    "- Wordlist: https://github.com/hingston/russian/blob/master/100000-russian-words.txt\n",
    "- Definitions: https://github.com/Harrix/Russian-Nouns"
   ]
  },
  {
   "cell_type": "code",
   "execution_count": 1,
   "metadata": {},
   "outputs": [],
   "source": [
    "with open(\"/Users/andrei/Documents/Coding/Datasets/100000-russian-words.txt\",\"r\") as f:\n",
    "    words=f.read().split(\"\\n\")"
   ]
  },
  {
   "cell_type": "code",
   "execution_count": 4,
   "metadata": {},
   "outputs": [],
   "source": [
    "with open(\"/Users/andrei/Documents/Coding/Datasets/russian_nouns_definitions.json\",\"r\") as f:\n",
    "    defintions=json.load(f)"
   ]
  },
  {
   "cell_type": "code",
   "execution_count": 6,
   "metadata": {},
   "outputs": [],
   "source": [
    "ru_alphabet=\"абвгдеёжзийклмнопрстуфхцчшщъыьэюя\"\n",
    "dictionary={c:[] for c in ru_alphabet}"
   ]
  },
  {
   "cell_type": "code",
   "execution_count": 8,
   "metadata": {},
   "outputs": [
    {
     "data": {
      "text/plain": [
       "55871"
      ]
     },
     "execution_count": 8,
     "metadata": {},
     "output_type": "execute_result"
    }
   ],
   "source": [
    "keywords=defintions.keys()\n",
    "len(keywords)"
   ]
  },
  {
   "cell_type": "code",
   "execution_count": 9,
   "metadata": {},
   "outputs": [],
   "source": [
    "i=0\n",
    "for word in words:\n",
    "    if word in keywords:\n",
    "        dictionary[word[0].lower()].append([i,word,defintions[word][\"definition\"]])\n",
    "        i+=1"
   ]
  },
  {
   "cell_type": "code",
   "execution_count": 10,
   "metadata": {},
   "outputs": [],
   "source": [
    "with open(\"dictionaries/russian.json\",\"w\") as f:\n",
    "    json.dump(dictionary,f)"
   ]
  }
 ],
 "metadata": {
  "kernelspec": {
   "display_name": "Python 3",
   "language": "python",
   "name": "python3"
  },
  "language_info": {
   "codemirror_mode": {
    "name": "ipython",
    "version": 3
   },
   "file_extension": ".py",
   "mimetype": "text/x-python",
   "name": "python",
   "nbconvert_exporter": "python",
   "pygments_lexer": "ipython3",
   "version": "3.11.2"
  },
  "orig_nbformat": 4
 },
 "nbformat": 4,
 "nbformat_minor": 2
}
